{
  "nbformat": 4,
  "nbformat_minor": 0,
  "metadata": {
    "colab": {
      "name": "Doctor Chat Bot.ipynb",
      "provenance": [],
      "collapsed_sections": [],
      "authorship_tag": "ABX9TyMIuUt9Moo4O6ZlVn/3Jvai",
      "include_colab_link": true
    },
    "kernelspec": {
      "name": "python3",
      "display_name": "Python 3"
    },
    "language_info": {
      "name": "python"
    }
  },
  "cells": [
    {
      "cell_type": "markdown",
      "metadata": {
        "id": "view-in-github",
        "colab_type": "text"
      },
      "source": [
        "<a href=\"https://colab.research.google.com/github/CyberSaiyam/COVID19-ChatBOT/blob/main/Doctor_Chat_Bot.ipynb\" target=\"_parent\"><img src=\"https://colab.research.google.com/assets/colab-badge.svg\" alt=\"Open In Colab\"/></a>"
      ]
    },
    {
      "cell_type": "markdown",
      "metadata": {
        "id": "HsC3FITXBw5t"
      },
      "source": [
        "#Description: This is a chat bot program"
      ]
    },
    {
      "cell_type": "code",
      "metadata": {
        "id": "86LiT-UfRY6o"
      },
      "source": [
        "# Installing NLTK\n",
        "# About NLTK - NLTK, is a suite of libraries and programs for symbolic and statistical natural language processing for English written in the Python programming language."
      ],
      "execution_count": 51,
      "outputs": []
    },
    {
      "cell_type": "code",
      "metadata": {
        "id": "avSIx-xiCIfS",
        "colab": {
          "base_uri": "https://localhost:8080/"
        },
        "outputId": "98152191-0597-4c85-9fa3-05791ab0fe70"
      },
      "source": [
        "pip install nltk"
      ],
      "execution_count": 52,
      "outputs": [
        {
          "output_type": "stream",
          "text": [
            "Requirement already satisfied: nltk in /usr/local/lib/python3.7/dist-packages (3.2.5)\n",
            "Requirement already satisfied: six in /usr/local/lib/python3.7/dist-packages (from nltk) (1.15.0)\n"
          ],
          "name": "stdout"
        }
      ]
    },
    {
      "cell_type": "code",
      "metadata": {
        "id": "r1GbueYHReMM"
      },
      "source": [
        "# Installing NEWSPAPER 3K\n",
        "# About NEWSPAPER 3K - It is a Web Scraping powerful tool to gather information from a website."
      ],
      "execution_count": 53,
      "outputs": []
    },
    {
      "cell_type": "code",
      "metadata": {
        "id": "RmDdRoRACWQJ",
        "colab": {
          "base_uri": "https://localhost:8080/"
        },
        "outputId": "a2c05d79-d180-452b-e473-f2c926a1bc88"
      },
      "source": [
        "pip install newspaper3k"
      ],
      "execution_count": 54,
      "outputs": [
        {
          "output_type": "stream",
          "text": [
            "Requirement already satisfied: newspaper3k in /usr/local/lib/python3.7/dist-packages (0.2.8)\n",
            "Requirement already satisfied: Pillow>=3.3.0 in /usr/local/lib/python3.7/dist-packages (from newspaper3k) (7.1.2)\n",
            "Requirement already satisfied: jieba3k>=0.35.1 in /usr/local/lib/python3.7/dist-packages (from newspaper3k) (0.35.1)\n",
            "Requirement already satisfied: lxml>=3.6.0 in /usr/local/lib/python3.7/dist-packages (from newspaper3k) (4.2.6)\n",
            "Requirement already satisfied: nltk>=3.2.1 in /usr/local/lib/python3.7/dist-packages (from newspaper3k) (3.2.5)\n",
            "Requirement already satisfied: feedparser>=5.2.1 in /usr/local/lib/python3.7/dist-packages (from newspaper3k) (6.0.2)\n",
            "Requirement already satisfied: feedfinder2>=0.0.4 in /usr/local/lib/python3.7/dist-packages (from newspaper3k) (0.0.4)\n",
            "Requirement already satisfied: tinysegmenter==0.3 in /usr/local/lib/python3.7/dist-packages (from newspaper3k) (0.3)\n",
            "Requirement already satisfied: cssselect>=0.9.2 in /usr/local/lib/python3.7/dist-packages (from newspaper3k) (1.1.0)\n",
            "Requirement already satisfied: PyYAML>=3.11 in /usr/local/lib/python3.7/dist-packages (from newspaper3k) (3.13)\n",
            "Requirement already satisfied: tldextract>=2.0.1 in /usr/local/lib/python3.7/dist-packages (from newspaper3k) (3.1.0)\n",
            "Requirement already satisfied: requests>=2.10.0 in /usr/local/lib/python3.7/dist-packages (from newspaper3k) (2.23.0)\n",
            "Requirement already satisfied: beautifulsoup4>=4.4.1 in /usr/local/lib/python3.7/dist-packages (from newspaper3k) (4.6.3)\n",
            "Requirement already satisfied: python-dateutil>=2.5.3 in /usr/local/lib/python3.7/dist-packages (from newspaper3k) (2.8.1)\n",
            "Requirement already satisfied: six in /usr/local/lib/python3.7/dist-packages (from nltk>=3.2.1->newspaper3k) (1.15.0)\n",
            "Requirement already satisfied: sgmllib3k in /usr/local/lib/python3.7/dist-packages (from feedparser>=5.2.1->newspaper3k) (1.0.0)\n",
            "Requirement already satisfied: filelock>=3.0.8 in /usr/local/lib/python3.7/dist-packages (from tldextract>=2.0.1->newspaper3k) (3.0.12)\n",
            "Requirement already satisfied: requests-file>=1.4 in /usr/local/lib/python3.7/dist-packages (from tldextract>=2.0.1->newspaper3k) (1.5.1)\n",
            "Requirement already satisfied: idna in /usr/local/lib/python3.7/dist-packages (from tldextract>=2.0.1->newspaper3k) (2.10)\n",
            "Requirement already satisfied: urllib3!=1.25.0,!=1.25.1,<1.26,>=1.21.1 in /usr/local/lib/python3.7/dist-packages (from requests>=2.10.0->newspaper3k) (1.24.3)\n",
            "Requirement already satisfied: chardet<4,>=3.0.2 in /usr/local/lib/python3.7/dist-packages (from requests>=2.10.0->newspaper3k) (3.0.4)\n",
            "Requirement already satisfied: certifi>=2017.4.17 in /usr/local/lib/python3.7/dist-packages (from requests>=2.10.0->newspaper3k) (2020.12.5)\n"
          ],
          "name": "stdout"
        }
      ]
    },
    {
      "cell_type": "code",
      "metadata": {
        "id": "cEcMXPyACiVK"
      },
      "source": [
        "from newspaper import Article\n",
        "import random\n",
        "import string\n",
        "import nltk\n",
        "from sklearn.feature_extraction.text import CountVectorizer\n",
        "from sklearn.metrics.pairwise import cosine_similarity\n",
        "import numpy as np\n",
        "import warnings\n",
        "warnings.filterwarnings('ignore')"
      ],
      "execution_count": 55,
      "outputs": []
    },
    {
      "cell_type": "code",
      "metadata": {
        "colab": {
          "base_uri": "https://localhost:8080/"
        },
        "id": "ZimKx8G6DQer",
        "outputId": "854a9a22-cc6d-4e69-bc21-7a67c65735ae"
      },
      "source": [
        "nltk.download('punkt',quiet=True)"
      ],
      "execution_count": 56,
      "outputs": [
        {
          "output_type": "execute_result",
          "data": {
            "text/plain": [
              "True"
            ]
          },
          "metadata": {
            "tags": []
          },
          "execution_count": 56
        }
      ]
    },
    {
      "cell_type": "code",
      "metadata": {
        "id": "fwWYvH87DeAA"
      },
      "source": [
        "article = Article('https://www.mayoclinic.org/diseases-conditions/coronavirus/symptoms-causes/syc-20479963')\n",
        "article.download()\n",
        "article.parse()\n",
        "article.nlp()\n",
        "body = article.text"
      ],
      "execution_count": 57,
      "outputs": []
    },
    {
      "cell_type": "code",
      "metadata": {
        "colab": {
          "base_uri": "https://localhost:8080/"
        },
        "id": "xuhdFTUoEeL9",
        "outputId": "740edf5c-9bee-4da4-ff25-94d1fcbe5887"
      },
      "source": [
        "print(body)"
      ],
      "execution_count": 58,
      "outputs": [
        {
          "output_type": "stream",
          "text": [
            "Overview\n",
            "\n",
            "Coronavirus Open pop-up dialog box Close Coronavirus Coronavirus Coronavirus is a family of viruses that can cause respiratory illnesses such as the common cold, severe acute respiratory syndrome (SARS) and Middle East respiratory syndrome (MERS).\n",
            "\n",
            "Coronaviruses are a family of viruses that can cause illnesses such as the common cold, severe acute respiratory syndrome (SARS) and Middle East respiratory syndrome (MERS). In 2019, a new coronavirus was identified as the cause of a disease outbreak that originated in China.\n",
            "\n",
            "The virus is now known as the severe acute respiratory syndrome coronavirus 2 (SARS-CoV-2). The disease it causes is called coronavirus disease 2019 (COVID-19). In March 2020, the World Health Organization (WHO) declared the COVID-19 outbreak a pandemic.\n",
            "\n",
            "Public health groups, including the U.S. Centers for Disease Control and Prevention (CDC) and WHO , are monitoring the pandemic and posting updates on their websites. These groups have also issued recommendations for preventing and treating the illness.\n",
            "\n",
            "Symptoms\n",
            "\n",
            "Signs and symptoms of coronavirus disease 2019 (COVID-19) may appear two to 14 days after exposure. This time after exposure and before having symptoms is called the incubation period. Common signs and symptoms can include:\n",
            "\n",
            "Fever\n",
            "\n",
            "Cough\n",
            "\n",
            "Tiredness\n",
            "\n",
            "Early symptoms of COVID-19 may include a loss of taste or smell.\n",
            "\n",
            "Other symptoms can include:\n",
            "\n",
            "Shortness of breath or difficulty breathing\n",
            "\n",
            "Muscle aches\n",
            "\n",
            "Chills\n",
            "\n",
            "Sore throat\n",
            "\n",
            "Runny nose\n",
            "\n",
            "Headache\n",
            "\n",
            "Chest pain\n",
            "\n",
            "Pink eye (conjunctivitis)\n",
            "\n",
            "Nausea\n",
            "\n",
            "Vomiting\n",
            "\n",
            "Diarrhea\n",
            "\n",
            "Rash\n",
            "\n",
            "This list is not all inclusive. Children have similar symptoms to adults and generally have mild illness.\n",
            "\n",
            "The severity of COVID-19 symptoms can range from very mild to severe. Some people may have only a few symptoms, and some people may have no symptoms at all. Some people may experience worsened symptoms, such as worsened shortness of breath and pneumonia, about a week after symptoms start.\n",
            "\n",
            "People who are older have a higher risk of serious illness from COVID-19 , and the risk increases with age. People who have existing medical conditions also may have a higher risk of serious illness. Certain medical conditions that may increase the risk of serious illness from COVID-19 include:\n",
            "\n",
            "Serious heart diseases, such as heart failure, coronary artery disease or cardiomyopathy\n",
            "\n",
            "Cancer\n",
            "\n",
            "Chronic obstructive pulmonary disease (COPD)\n",
            "\n",
            "Type 1 or type 2 diabetes\n",
            "\n",
            "Overweight, obesity or severe obesity\n",
            "\n",
            "High blood pressure\n",
            "\n",
            "Smoking\n",
            "\n",
            "Chronic kidney disease\n",
            "\n",
            "Sickle cell disease or thalassemia\n",
            "\n",
            "Weakened immune system from solid organ transplants\n",
            "\n",
            "Pregnancy\n",
            "\n",
            "Asthma\n",
            "\n",
            "Chronic lung diseases such as cystic fibrosis or pulmonary fibrosis\n",
            "\n",
            "Liver disease\n",
            "\n",
            "Dementia\n",
            "\n",
            "Down syndrome\n",
            "\n",
            "Weakened immune system from bone marrow transplant, HIV or some medications\n",
            "\n",
            "Brain and nervous system conditions\n",
            "\n",
            "Substance use disorders\n",
            "\n",
            "This list is not all inclusive. Other underlying medical conditions may increase your risk of serious illness from COVID-19 .\n",
            "\n",
            "COVID-19 self-checker\n",
            "\n",
            "Assess your symptoms on CDC’s coronavirus self-checker tool and find out if you’re a candidate for a COVID-19 test.\n",
            "\n",
            "When to see a doctor\n",
            "\n",
            "If you have COVID-19 signs or symptoms or you've been in contact with someone diagnosed with COVID-19 , contact your doctor or clinic right away for medical advice. Tell your health care team about your symptoms and possible exposure before you go to your appointment.\n",
            "\n",
            "If you have emergency COVID-19 signs and symptoms, seek care immediately. Emergency signs and symptoms can include:\n",
            "\n",
            "Trouble breathing\n",
            "\n",
            "Persistent chest pain or pressure\n",
            "\n",
            "Inability to stay awake\n",
            "\n",
            "New confusion\n",
            "\n",
            "Pale, gray or blue-colored skin, lips or nail beds — depending on skin tone\n",
            "\n",
            "This list isn't all inclusive. Let your doctor know if you are an older adult or have chronic medical conditions, such as heart disease or lung disease, as you may have a greater risk of becoming seriously ill with COVID-19 . During the pandemic, it's important to make sure health care is available for those in greatest need.\n",
            "\n",
            "Get the latest health advice from Mayo Clinic delivered to your inbox. Sign up for free and receive the latest on research advancements, health tips and current health topics like COVID-19, plus expert advice on managing your health. Sign up Learn more about Mayo Clinic’s use of data To provide you with the most relevant and helpful information, and understand which information is beneficial, we may combine your email and website usage information with other information we have about you. If you are a Mayo Clinic patient, this could include protected health information. If we combine this information with your protected health information, we will treat all of that information as protected health information, and will only use or disclose that information as set forth in our notice of privacy practices. You may opt-out of email communications at any time by clicking on the unsubscribe link in the e-mail.\n",
            "\n",
            "Causes\n",
            "\n",
            "Infection with the new coronavirus (severe acute respiratory syndrome coronavirus 2, or SARS-CoV-2) causes coronavirus disease 2019 ( COVID-19 ).\n",
            "\n",
            "The virus that causes COVID-19 spreads easily among people, and more continues to be discovered over time about how it spreads. Data has shown that it spreads mainly from person to person among those in close contact (within about 6 feet, or 2 meters). The virus spreads by respiratory droplets released when someone with the virus coughs, sneezes, breathes, sings or talks. These droplets can be inhaled or land in the mouth, nose or eyes of a person nearby.\n",
            "\n",
            "In some situations, the COVID-19 virus can spread by a person being exposed to small droplets or aerosols that stay in the air for several minutes or hours — called airborne transmission. It's not yet known how common it is for the virus to spread this way.\n",
            "\n",
            "It can also spread if a person touches a surface or object with the virus on it and then touches his or her mouth, nose or eyes, but the risk is low.\n",
            "\n",
            "Some reinfections of the virus that causes COVID-19 have happened, but these have been uncommon.\n",
            "\n",
            "Risk factors\n",
            "\n",
            "Risk factors for COVID-19 appear to include:\n",
            "\n",
            "Close contact (within 6 feet, or 2 meters) with someone who has COVID-19\n",
            "\n",
            "Being coughed or sneezed on by an infected person\n",
            "\n",
            "Complications\n",
            "\n",
            "Although most people with COVID-19 have mild to moderate symptoms, the disease can cause severe medical complications and lead to death in some people. Older adults or people with existing medical conditions are at greater risk of becoming seriously ill with COVID-19 .\n",
            "\n",
            "Complications can include:\n",
            "\n",
            "Pneumonia and trouble breathing\n",
            "\n",
            "Organ failure in several organs\n",
            "\n",
            "Heart problems\n",
            "\n",
            "A severe lung condition that causes a low amount of oxygen to go through your bloodstream to your organs (acute respiratory distress syndrome)\n",
            "\n",
            "Blood clots\n",
            "\n",
            "Acute kidney injury\n",
            "\n",
            "Additional viral and bacterial infections\n",
            "\n",
            "Prevention\n",
            "\n",
            "The U.S. Food and Drug Administration (FDA) has given emergency use authorization to some COVID-19 vaccines in the U.S. A vaccine can prevent you from getting the COVID-19 virus or prevent you from becoming seriously ill if you get the COVID-19 virus. Also, if you are fully vaccinated, you can return to many activities you may not have been able to do because of the pandemic — including not wearing a mask or social distancing — except where required by a rule or law.\n",
            "\n",
            "If you haven’t had the COVID-19 vaccine, you can take many steps to reduce your risk of infection. WHO and CDC recommend following these precautions for avoiding exposure to the virus that causes COVID-19 :\n",
            "\n",
            "Avoid close contact (within about 6 feet, or 2 meters) with anyone who is sick or has symptoms.\n",
            "\n",
            "Keep distance between yourself and others (within about 6 feet, or 2 meters). This is especially important if you have a higher risk of serious illness. Keep in mind some people may have COVID-19 and spread it to others, even if they don't have symptoms or don't know they have COVID-19 .\n",
            "\n",
            "and spread it to others, even if they don't have symptoms or don't know they have . Avoid crowds and indoor places that have poor ventilation.\n",
            "\n",
            "Wash your hands often with soap and water for at least 20 seconds, or use an alcohol-based hand sanitizer that contains at least 60% alcohol.\n",
            "\n",
            "Wear a face mask in indoor public spaces and outdoors where there is a high risk of COVID-19 transmission, such as at a crowded event or large gathering. Further mask guidance differs depending on whether you are fully vaccinated or unvaccinated. Surgical masks may be used if available. N95 respirators should be reserved for health care providers.\n",
            "\n",
            "transmission, such as at a crowded event or large gathering. Further mask guidance differs depending on whether you are fully vaccinated or unvaccinated. Surgical masks may be used if available. N95 respirators should be reserved for health care providers. Cover your mouth and nose with your elbow or a tissue when you cough or sneeze. Throw away the used tissue. Wash your hands right away.\n",
            "\n",
            "Avoid touching your eyes, nose and mouth.\n",
            "\n",
            "Avoid sharing dishes, glasses, towels, bedding and other household items if you're sick.\n",
            "\n",
            "Clean and disinfect high-touch surfaces, such as doorknobs, light switches, electronics and counters, daily.\n",
            "\n",
            "Stay home from work, school and public areas if you're sick, unless you're going to get medical care. Avoid public transportation, taxis and ride-sharing if you're sick.\n",
            "\n",
            "If you have a chronic medical condition and may have a higher risk of serious illness, check with your doctor about other ways to protect yourself.\n",
            "\n",
            "Travel\n"
          ],
          "name": "stdout"
        }
      ]
    },
    {
      "cell_type": "code",
      "metadata": {
        "id": "oOVmaApqEn9i"
      },
      "source": [
        "text = body\n",
        "sentence_list = nltk.sent_tokenize(text)"
      ],
      "execution_count": 59,
      "outputs": []
    },
    {
      "cell_type": "code",
      "metadata": {
        "id": "OZxUoiMPExS0"
      },
      "source": [
        "# print(sentence_list)"
      ],
      "execution_count": 60,
      "outputs": []
    },
    {
      "cell_type": "code",
      "metadata": {
        "id": "S7yRET56E4EB"
      },
      "source": [
        "def greet_user(text):\n",
        "  text = text.lower()\n",
        "\n",
        "  bot_greeting = ['how are you','hi','hello','hello there','Namaste']\n",
        "\n",
        "  user_greeting = ['hi','hey','hello','helloo','wassup','bro','hey listen','yo']\n",
        "\n",
        "  for word in text.split():\n",
        "    if word in user_greeting:\n",
        "      return random.choice(bot_greeting)"
      ],
      "execution_count": 61,
      "outputs": []
    },
    {
      "cell_type": "code",
      "metadata": {
        "id": "dD_EgdLiHCZ9"
      },
      "source": [
        "def index_sort(list_var):\n",
        "  length = len(list_var)\n",
        "  list_index = list(range(0,length))\n",
        "\n",
        "  x = list_var\n",
        "  for i in range(length):\n",
        "    for j in range(length):\n",
        "      if x[list_index[i]] > x[list_index[j]]:\n",
        "        #swap\n",
        "        temp = list_index[i]\n",
        "        list_index[i] = list_index[j]\n",
        "        list_index[j] = temp\n",
        "\n",
        "  return list_index "
      ],
      "execution_count": 62,
      "outputs": []
    },
    {
      "cell_type": "code",
      "metadata": {
        "id": "2HWGwtecFP8-"
      },
      "source": [
        "def bot_response(user_input):\n",
        "  user_input = user_input.lower()\n",
        "  sentence_list.append(user_input)\n",
        "  bot_response = ''\n",
        "  cm = CountVectorizer().fit_transform(sentence_list)\n",
        "  similarity_score = cosine_similarity(cm[-1],cm)\n",
        "  similarity_score_list = similarity_score.flatten()\n",
        "  index = index_sort(similarity_score_list)\n",
        "  index = index[1:]\n",
        "  response_flag = 0\n",
        "\n",
        "  j = 0\n",
        "  for i in range(len(index)):\n",
        "    if similarity_score_list[index[i]] > 0.0:\n",
        "      bot_response = bot_response+' '+sentence_list[index[i]]\n",
        "      response_flag = 1\n",
        "      j = j+1\n",
        "    if j > 2:\n",
        "      break\n",
        "\n",
        "  if response_flag == 0:\n",
        "    bot_response = bot_response+' '+\"I'm sorry, I do not understand that\"\n",
        "\n",
        "  sentence_list.remove(user_input)\n",
        "\n",
        "  return bot_response "
      ],
      "execution_count": 63,
      "outputs": []
    },
    {
      "cell_type": "code",
      "metadata": {
        "id": "MfSI0gdzKbA9"
      },
      "source": [
        "print(\"Dr Bot: Hello, I am Doctor Bot. If you have any query regarding corona virus disease feel free to ask. I am happy to help you.  If you want to exit, type exit\")\n",
        "\n",
        "exit_list = ['exit','see you later','bye','quit','goodbye','good bye','tata']\n",
        "\n",
        "while(True):\n",
        "  user_input = input(\"You: \")\n",
        "  if user_input.lower() in exit_list:\n",
        "    print('Dr Bot: Take Care, See you later!')\n",
        "    break\n",
        "  else:\n",
        "    if greet_user(user_input) != None:\n",
        "      print('Dr Bot: '+greet_user(user_input))\n",
        "    else:\n",
        "      print('Dr Bot:'+bot_response(user_input))"
      ],
      "execution_count": null,
      "outputs": []
    }
  ]
}