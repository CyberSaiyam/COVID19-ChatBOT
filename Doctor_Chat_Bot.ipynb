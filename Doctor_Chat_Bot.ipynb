{
  "nbformat": 4,
  "nbformat_minor": 0,
  "metadata": {
    "colab": {
      "name": "Doctor Chat Bot.ipynb",
      "provenance": [],
      "collapsed_sections": [],
      "authorship_tag": "ABX9TyMIGe8U73Ha8AyUpzLrBSw8",
      "include_colab_link": true
    },
    "kernelspec": {
      "name": "python3",
      "display_name": "Python 3"
    },
    "language_info": {
      "name": "python"
    }
  },
  "cells": [
    {
      "cell_type": "markdown",
      "metadata": {
        "id": "view-in-github",
        "colab_type": "text"
      },
      "source": [
        "<a href=\"https://colab.research.google.com/github/CyberSaiyam/COVID19-ChatBOT/blob/main/Doctor_Chat_Bot.ipynb\" target=\"_parent\"><img src=\"https://colab.research.google.com/assets/colab-badge.svg\" alt=\"Open In Colab\"/></a>"
      ]
    },
    {
      "cell_type": "markdown",
      "metadata": {
        "id": "HsC3FITXBw5t"
      },
      "source": [
        "#Description: This is a chat bot program"
      ]
    },
    {
      "cell_type": "code",
      "metadata": {
        "id": "86LiT-UfRY6o"
      },
      "source": [
        "# Installing NLTK\n",
        "# About NLTK - NLTK, is a suite of libraries and programs for symbolic and statistical natural language processing for English written in the Python programming language."
      ],
      "execution_count": 51,
      "outputs": []
    },
    {
      "cell_type": "code",
      "metadata": {
        "id": "avSIx-xiCIfS"
      },
      "source": [
        "pip install nltk"
      ],
      "execution_count": null,
      "outputs": []
    },
    {
      "cell_type": "code",
      "metadata": {
        "id": "r1GbueYHReMM"
      },
      "source": [
        "# Installing NEWSPAPER 3K\n",
        "# About NEWSPAPER 3K - It is a Web Scraping powerful tool to gather information from a website."
      ],
      "execution_count": 53,
      "outputs": []
    },
    {
      "cell_type": "code",
      "metadata": {
        "id": "RmDdRoRACWQJ"
      },
      "source": [
        "pip install newspaper3k"
      ],
      "execution_count": null,
      "outputs": []
    },
    {
      "cell_type": "code",
      "metadata": {
        "id": "cEcMXPyACiVK"
      },
      "source": [
        "from newspaper import Article\n",
        "import random\n",
        "import string\n",
        "import nltk\n",
        "from sklearn.feature_extraction.text import CountVectorizer\n",
        "from sklearn.metrics.pairwise import cosine_similarity\n",
        "import numpy as np\n",
        "import warnings\n",
        "warnings.filterwarnings('ignore')"
      ],
      "execution_count": 55,
      "outputs": []
    },
    {
      "cell_type": "code",
      "metadata": {
        "colab": {
          "base_uri": "https://localhost:8080/"
        },
        "id": "ZimKx8G6DQer",
        "outputId": "854a9a22-cc6d-4e69-bc21-7a67c65735ae"
      },
      "source": [
        "nltk.download('punkt',quiet=True)"
      ],
      "execution_count": 56,
      "outputs": [
        {
          "output_type": "execute_result",
          "data": {
            "text/plain": [
              "True"
            ]
          },
          "metadata": {
            "tags": []
          },
          "execution_count": 56
        }
      ]
    },
    {
      "cell_type": "code",
      "metadata": {
        "id": "fwWYvH87DeAA"
      },
      "source": [
        "article = Article('https://www.mayoclinic.org/diseases-conditions/coronavirus/symptoms-causes/syc-20479963')\n",
        "article.download()\n",
        "article.parse()\n",
        "article.nlp()\n",
        "body = article.text"
      ],
      "execution_count": 57,
      "outputs": []
    },
    {
      "cell_type": "code",
      "metadata": {
        "id": "xuhdFTUoEeL9"
      },
      "source": [
        "# print(body)"
      ],
      "execution_count": null,
      "outputs": []
    },
    {
      "cell_type": "code",
      "metadata": {
        "id": "oOVmaApqEn9i"
      },
      "source": [
        "text = body\n",
        "sentence_list = nltk.sent_tokenize(text)"
      ],
      "execution_count": 59,
      "outputs": []
    },
    {
      "cell_type": "code",
      "metadata": {
        "id": "OZxUoiMPExS0"
      },
      "source": [
        "# print(sentence_list)"
      ],
      "execution_count": 60,
      "outputs": []
    },
    {
      "cell_type": "code",
      "metadata": {
        "id": "S7yRET56E4EB"
      },
      "source": [
        "# A greet function for starting conversation\n",
        "def greet_user(text):\n",
        "  text = text.lower()\n",
        "\n",
        "  bot_greeting = ['how are you','hi','hello','hello there','Namaste']\n",
        "\n",
        "  user_greeting = ['hi','hey','hello','helloo','wassup','bro','hey listen','yo']\n",
        "\n",
        "  for word in text.split():\n",
        "    if word in user_greeting:\n",
        "      return random.choice(bot_greeting)"
      ],
      "execution_count": 61,
      "outputs": []
    },
    {
      "cell_type": "code",
      "metadata": {
        "id": "dD_EgdLiHCZ9"
      },
      "source": [
        "# index function to match the user's input to article for better results\n",
        "\n",
        "def index_sort(list_var):\n",
        "  length = len(list_var)\n",
        "  list_index = list(range(0,length))\n",
        "\n",
        "  x = list_var\n",
        "  for i in range(length):\n",
        "    for j in range(length):\n",
        "      if x[list_index[i]] > x[list_index[j]]:\n",
        "        #swap\n",
        "        temp = list_index[i]\n",
        "        list_index[i] = list_index[j]\n",
        "        list_index[j] = temp\n",
        "\n",
        "  return list_index "
      ],
      "execution_count": 62,
      "outputs": []
    },
    {
      "cell_type": "code",
      "metadata": {
        "id": "2HWGwtecFP8-"
      },
      "source": [
        "# Bot's Response to the user's query\n",
        "\n",
        "def bot_response(user_input):\n",
        "  user_input = user_input.lower()\n",
        "  sentence_list.append(user_input)\n",
        "  bot_response = ''\n",
        "  cm = CountVectorizer().fit_transform(sentence_list)\n",
        "  similarity_score = cosine_similarity(cm[-1],cm)\n",
        "  similarity_score_list = similarity_score.flatten()\n",
        "  index = index_sort(similarity_score_list)\n",
        "  index = index[1:]\n",
        "  response_flag = 0\n",
        "\n",
        "  j = 0\n",
        "  for i in range(len(index)):\n",
        "    if similarity_score_list[index[i]] > 0.0:\n",
        "      bot_response = bot_response+' '+sentence_list[index[i]]\n",
        "      response_flag = 1\n",
        "      j = j+1\n",
        "    if j > 2:\n",
        "      break\n",
        "\n",
        "  if response_flag == 0:\n",
        "    bot_response = bot_response+' '+\"I'm sorry, I do not understand that\"\n",
        "\n",
        "  sentence_list.remove(user_input)\n",
        "\n",
        "  return bot_response "
      ],
      "execution_count": 63,
      "outputs": []
    },
    {
      "cell_type": "code",
      "metadata": {
        "id": "MfSI0gdzKbA9"
      },
      "source": [
        "# Let's Start the Bot\n",
        "\n",
        "print(\"Dr Bot: Hello, I am Doctor Bot. If you have any query regarding corona virus disease feel free to ask. I am happy to help you.  If you want to exit, type exit\")\n",
        "\n",
        "exit_list = ['exit','see you later','bye','quit','goodbye','good bye','tata']\n",
        "\n",
        "while(True):\n",
        "  user_input = input(\"You: \")\n",
        "  if user_input.lower() in exit_list:\n",
        "    print('Dr Bot: Take Care, See you later!')\n",
        "    break\n",
        "  else:\n",
        "    if greet_user(user_input) != None:\n",
        "      print('Dr Bot: '+greet_user(user_input))\n",
        "    else:\n",
        "      print('Dr Bot:'+bot_response(user_input))"
      ],
      "execution_count": null,
      "outputs": []
    }
  ]
}